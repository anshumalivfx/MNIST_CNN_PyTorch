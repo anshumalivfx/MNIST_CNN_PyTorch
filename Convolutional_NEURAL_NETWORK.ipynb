{
  "nbformat": 4,
  "nbformat_minor": 0,
  "metadata": {
    "colab": {
      "provenance": []
    },
    "kernelspec": {
      "name": "python3",
      "display_name": "Python 3"
    },
    "language_info": {
      "name": "python"
    }
  },
  "cells": [
    {
      "cell_type": "code",
      "execution_count": 1,
      "metadata": {
        "id": "RgIHZnTjYqDV"
      },
      "outputs": [],
      "source": [
        "import torch"
      ]
    },
    {
      "cell_type": "code",
      "source": [
        "device = torch.device('cuda' if torch.cuda.is_available() else 'cpu')\n",
        "device"
      ],
      "metadata": {
        "colab": {
          "base_uri": "https://localhost:8080/"
        },
        "id": "GefMdcNEYrA0",
        "outputId": "f5b7217b-ab14-4fe3-a281-3d881810e556"
      },
      "execution_count": 2,
      "outputs": [
        {
          "output_type": "execute_result",
          "data": {
            "text/plain": [
              "device(type='cpu')"
            ]
          },
          "metadata": {},
          "execution_count": 2
        }
      ]
    },
    {
      "cell_type": "code",
      "source": [
        "from torchvision import datasets\n",
        "from torchvision.transforms import ToTensor"
      ],
      "metadata": {
        "id": "30PXAjGRYyYJ"
      },
      "execution_count": 3,
      "outputs": []
    },
    {
      "cell_type": "code",
      "source": [
        "train_data = datasets.MNIST(\n",
        "    root = 'data',\n",
        "    train = True,\n",
        "    transform = ToTensor(),\n",
        "    download = True,\n",
        ")\n",
        "test_data = datasets.MNIST(\n",
        "    root = 'data',\n",
        "    train = False,\n",
        "    transform = ToTensor()\n",
        ")"
      ],
      "metadata": {
        "colab": {
          "base_uri": "https://localhost:8080/"
        },
        "id": "AFq3_Aj0Y0aE",
        "outputId": "b970ce4f-e08a-480c-9eef-a47924e4ab3e"
      },
      "execution_count": 4,
      "outputs": [
        {
          "output_type": "stream",
          "name": "stdout",
          "text": [
            "Downloading http://yann.lecun.com/exdb/mnist/train-images-idx3-ubyte.gz\n",
            "Downloading http://yann.lecun.com/exdb/mnist/train-images-idx3-ubyte.gz to data/MNIST/raw/train-images-idx3-ubyte.gz\n"
          ]
        },
        {
          "output_type": "stream",
          "name": "stderr",
          "text": [
            "100%|██████████| 9912422/9912422 [00:00<00:00, 71786227.03it/s]\n"
          ]
        },
        {
          "output_type": "stream",
          "name": "stdout",
          "text": [
            "Extracting data/MNIST/raw/train-images-idx3-ubyte.gz to data/MNIST/raw\n",
            "\n",
            "Downloading http://yann.lecun.com/exdb/mnist/train-labels-idx1-ubyte.gz\n",
            "Downloading http://yann.lecun.com/exdb/mnist/train-labels-idx1-ubyte.gz to data/MNIST/raw/train-labels-idx1-ubyte.gz\n"
          ]
        },
        {
          "output_type": "stream",
          "name": "stderr",
          "text": [
            "100%|██████████| 28881/28881 [00:00<00:00, 18284633.03it/s]"
          ]
        },
        {
          "output_type": "stream",
          "name": "stdout",
          "text": [
            "Extracting data/MNIST/raw/train-labels-idx1-ubyte.gz to data/MNIST/raw\n",
            "\n",
            "Downloading http://yann.lecun.com/exdb/mnist/t10k-images-idx3-ubyte.gz\n",
            "Downloading http://yann.lecun.com/exdb/mnist/t10k-images-idx3-ubyte.gz to data/MNIST/raw/t10k-images-idx3-ubyte.gz\n"
          ]
        },
        {
          "output_type": "stream",
          "name": "stderr",
          "text": [
            "\n",
            "100%|██████████| 1648877/1648877 [00:00<00:00, 19292265.67it/s]\n"
          ]
        },
        {
          "output_type": "stream",
          "name": "stdout",
          "text": [
            "Extracting data/MNIST/raw/t10k-images-idx3-ubyte.gz to data/MNIST/raw\n",
            "\n",
            "Downloading http://yann.lecun.com/exdb/mnist/t10k-labels-idx1-ubyte.gz\n",
            "Downloading http://yann.lecun.com/exdb/mnist/t10k-labels-idx1-ubyte.gz to data/MNIST/raw/t10k-labels-idx1-ubyte.gz\n"
          ]
        },
        {
          "output_type": "stream",
          "name": "stderr",
          "text": [
            "100%|██████████| 4542/4542 [00:00<00:00, 15526103.32it/s]"
          ]
        },
        {
          "output_type": "stream",
          "name": "stdout",
          "text": [
            "Extracting data/MNIST/raw/t10k-labels-idx1-ubyte.gz to data/MNIST/raw\n",
            "\n"
          ]
        },
        {
          "output_type": "stream",
          "name": "stderr",
          "text": [
            "\n"
          ]
        }
      ]
    },
    {
      "cell_type": "code",
      "source": [
        "print(train_data)"
      ],
      "metadata": {
        "colab": {
          "base_uri": "https://localhost:8080/"
        },
        "id": "AQ3-udihY3BG",
        "outputId": "83f867e6-f8bd-49bc-cfe0-467426a53b51"
      },
      "execution_count": 5,
      "outputs": [
        {
          "output_type": "stream",
          "name": "stdout",
          "text": [
            "Dataset MNIST\n",
            "    Number of datapoints: 60000\n",
            "    Root location: data\n",
            "    Split: Train\n",
            "    StandardTransform\n",
            "Transform: ToTensor()\n"
          ]
        }
      ]
    },
    {
      "cell_type": "code",
      "source": [
        "print(test_data)"
      ],
      "metadata": {
        "colab": {
          "base_uri": "https://localhost:8080/"
        },
        "id": "VjJQLPzmY5ly",
        "outputId": "10f51478-bc33-400d-883e-32035921288d"
      },
      "execution_count": 6,
      "outputs": [
        {
          "output_type": "stream",
          "name": "stdout",
          "text": [
            "Dataset MNIST\n",
            "    Number of datapoints: 10000\n",
            "    Root location: data\n",
            "    Split: Test\n",
            "    StandardTransform\n",
            "Transform: ToTensor()\n"
          ]
        }
      ]
    },
    {
      "cell_type": "code",
      "source": [
        "print(train_data.data.size())"
      ],
      "metadata": {
        "colab": {
          "base_uri": "https://localhost:8080/"
        },
        "id": "xjr-EZnBY7V_",
        "outputId": "8f7d222f-206c-48ee-ac86-31773b7e2c32"
      },
      "execution_count": 7,
      "outputs": [
        {
          "output_type": "stream",
          "name": "stdout",
          "text": [
            "torch.Size([60000, 28, 28])\n"
          ]
        }
      ]
    },
    {
      "cell_type": "code",
      "source": [
        "print(train_data.targets.size())"
      ],
      "metadata": {
        "colab": {
          "base_uri": "https://localhost:8080/"
        },
        "id": "8VvFdO4KY-EV",
        "outputId": "14088174-f2ad-45b3-aee9-5eadf0bc72b1"
      },
      "execution_count": 8,
      "outputs": [
        {
          "output_type": "stream",
          "name": "stdout",
          "text": [
            "torch.Size([60000])\n"
          ]
        }
      ]
    },
    {
      "cell_type": "code",
      "source": [
        "import matplotlib.pyplot as plt\n",
        "plt.imshow(train_data.data[0], cmap='gray')\n",
        "plt.title('%i' % train_data.targets[0])\n",
        "plt.show()"
      ],
      "metadata": {
        "colab": {
          "base_uri": "https://localhost:8080/",
          "height": 452
        },
        "id": "AFk0lxK2Y_9a",
        "outputId": "b35b455b-91c1-482f-ef8c-10ea90eb3faa"
      },
      "execution_count": 9,
      "outputs": [
        {
          "output_type": "display_data",
          "data": {
            "text/plain": [
              "<Figure size 640x480 with 1 Axes>"
            ],
            "image/png": "[encoded data removed]"
          },
          "metadata": {}
        }
      ]
    },
    {
      "cell_type": "code",
      "source": [
        "figure = plt.figure(figsize=(10, 8))\n",
        "cols, rows = 5, 5\n",
        "for i in range(1, cols * rows + 1):\n",
        "    sample_idx = torch.randint(len(train_data), size=(1,)).item()\n",
        "    img, label = train_data[sample_idx]\n",
        "    figure.add_subplot(rows, cols, i)\n",
        "    plt.title(label)\n",
        "    plt.axis(\"off\")\n",
        "    plt.imshow(img.squeeze(), cmap=\"gray\")\n",
        "plt.show()"
      ],
      "metadata": {
        "colab": {
          "base_uri": "https://localhost:8080/",
          "height": 675
        },
        "id": "HWJWXvYqZB61",
        "outputId": "b27f06f8-606a-4445-9904-23e0b4a1bff5"
      },
      "execution_count": 10,
      "outputs": [
        {
          "output_type": "display_data",
          "data": {
            "text/plain": [
              "<Figure size 1000x800 with 25 Axes>"
            ],
            "image/png": "[encoded data removed]"
          },
          "metadata": {}
        }
      ]
    },
    {
      "cell_type": "code",
      "source": [
        "from torch.utils.data import DataLoader\n",
        "loaders = {\n",
        "    'train' : torch.utils.data.DataLoader(train_data,\n",
        "                                          batch_size=100,\n",
        "                                          shuffle=True,\n",
        "                                          num_workers=1),\n",
        "\n",
        "    'test'  : torch.utils.data.DataLoader(test_data,\n",
        "                                          batch_size=100,\n",
        "                                          shuffle=True,\n",
        "                                          num_workers=1),\n",
        "}\n",
        "loaders"
      ],
      "metadata": {
        "colab": {
          "base_uri": "https://localhost:8080/"
        },
        "id": "uwPk31pSZEN1",
        "outputId": "ea3c36b4-615f-4bd6-a65e-42f82c4d670d"
      },
      "execution_count": 11,
      "outputs": [
        {
          "output_type": "execute_result",
          "data": {
            "text/plain": [
              "{'train': <torch.utils.data.dataloader.DataLoader at 0x7c0dc7b3f040>,\n",
              " 'test': <torch.utils.data.dataloader.DataLoader at 0x7c0dc7b3f1c0>}"
            ]
          },
          "metadata": {},
          "execution_count": 11
        }
      ]
    },
    {
      "cell_type": "code",
      "source": [
        "import torch.nn as nn"
      ],
      "metadata": {
        "id": "4q22XJPiZI68"
      },
      "execution_count": 12,
      "outputs": []
    },
    {
      "cell_type": "code",
      "source": [
        "class CNN(nn.Module):\n",
        "    def __init__(self):\n",
        "        super(CNN, self).__init__()\n",
        "        self.conv1 = nn.Sequential(\n",
        "            nn.Conv2d(\n",
        "                in_channels=1,\n",
        "                out_channels=16,\n",
        "                kernel_size=5,\n",
        "                stride=1,\n",
        "                padding=2,\n",
        "            ),\n",
        "            nn.ReLU(),\n",
        "            nn.MaxPool2d(kernel_size=2),\n",
        "        )\n",
        "        self.conv2 = nn.Sequential(\n",
        "            nn.Conv2d(16, 32, 5, 1, 2),\n",
        "            nn.ReLU(),\n",
        "            nn.MaxPool2d(2),\n",
        "        )\n",
        "        # fully connected layer, output 10 classes\n",
        "        self.out = nn.Linear(32 * 7 * 7, 10)\n",
        "    def forward(self, x):\n",
        "        x = self.conv1(x)\n",
        "        x = self.conv2(x)\n",
        "        # flatten the output of conv2 to (batch_size, 32 * 7 * 7)\n",
        "        x = x.view(x.size(0), -1)\n",
        "        output = self.out(x)\n",
        "        return output, x    # return x for visualization"
      ],
      "metadata": {
        "id": "ATyHogiSZMPR"
      },
      "execution_count": 13,
      "outputs": []
    },
    {
      "cell_type": "code",
      "source": [
        "cnn = CNN()\n",
        "print(cnn)"
      ],
      "metadata": {
        "colab": {
          "base_uri": "https://localhost:8080/"
        },
        "id": "iFb3Xt1QZUT9",
        "outputId": "448cb1f8-8b4e-4dc5-90d8-35d87743377d"
      },
      "execution_count": 14,
      "outputs": [
        {
          "output_type": "stream",
          "name": "stdout",
          "text": [
            "CNN(\n",
            "  (conv1): Sequential(\n",
            "    (0): Conv2d(1, 16, kernel_size=(5, 5), stride=(1, 1), padding=(2, 2))\n",
            "    (1): ReLU()\n",
            "    (2): MaxPool2d(kernel_size=2, stride=2, padding=0, dilation=1, ceil_mode=False)\n",
            "  )\n",
            "  (conv2): Sequential(\n",
            "    (0): Conv2d(16, 32, kernel_size=(5, 5), stride=(1, 1), padding=(2, 2))\n",
            "    (1): ReLU()\n",
            "    (2): MaxPool2d(kernel_size=2, stride=2, padding=0, dilation=1, ceil_mode=False)\n",
            "  )\n",
            "  (out): Linear(in_features=1568, out_features=10, bias=True)\n",
            ")\n"
          ]
        }
      ]
    },
    {
      "cell_type": "code",
      "source": [
        "loss_func = nn.CrossEntropyLoss()\n",
        "loss_func"
      ],
      "metadata": {
        "colab": {
          "base_uri": "https://localhost:8080/"
        },
        "id": "du3Vhvz_ZVf4",
        "outputId": "7a9a4dbb-a811-4a3b-f8d9-efc6bc70792c"
      },
      "execution_count": 15,
      "outputs": [
        {
          "output_type": "execute_result",
          "data": {
            "text/plain": [
              "CrossEntropyLoss()"
            ]
          },
          "metadata": {},
          "execution_count": 15
        }
      ]
    },
    {
      "cell_type": "code",
      "source": [
        "from torch import optim"
      ],
      "metadata": {
        "id": "7V109z6-ZbUM"
      },
      "execution_count": 16,
      "outputs": []
    },
    {
      "cell_type": "code",
      "source": [
        "optimizer = optim.Adam(cnn.parameters(), lr = 0.01)\n",
        "optimizer"
      ],
      "metadata": {
        "colab": {
          "base_uri": "https://localhost:8080/"
        },
        "id": "XIUDRcfSZdrx",
        "outputId": "df33f931-2a56-4ef4-925c-9aa2c82930eb"
      },
      "execution_count": 17,
      "outputs": [
        {
          "output_type": "execute_result",
          "data": {
            "text/plain": [
              "Adam (\n",
              "Parameter Group 0\n",
              "    amsgrad: False\n",
              "    betas: (0.9, 0.999)\n",
              "    capturable: False\n",
              "    differentiable: False\n",
              "    eps: 1e-08\n",
              "    foreach: None\n",
              "    fused: None\n",
              "    lr: 0.01\n",
              "    maximize: False\n",
              "    weight_decay: 0\n",
              ")"
            ]
          },
          "metadata": {},
          "execution_count": 17
        }
      ]
    },
    {
      "cell_type": "code",
      "source": [
        "from torch.autograd import Variable"
      ],
      "metadata": {
        "id": "tTzmcI1RZf9A"
      },
      "execution_count": 18,
      "outputs": []
    },
    {
      "cell_type": "code",
      "source": [
        "num_epochs = 10"
      ],
      "metadata": {
        "id": "Ggwz09cbZi1W"
      },
      "execution_count": 19,
      "outputs": []
    },
    {
      "cell_type": "code",
      "source": [
        "def train(num_epochs, cnn, loaders):\n",
        "\n",
        "    cnn.train()\n",
        "\n",
        "    # Train the model\n",
        "    total_step = len(loaders['train'])\n",
        "\n",
        "    for epoch in range(num_epochs):\n",
        "        for i, (images, labels) in enumerate(loaders['train']):\n",
        "\n",
        "            # gives batch data, normalize x when iterate train_loader\n",
        "            b_x = Variable(images)   # batch x\n",
        "            b_y = Variable(labels)   # batch y\n",
        "            output = cnn(b_x)[0]\n",
        "            loss = loss_func(output, b_y)\n",
        "\n",
        "            # clear gradients for this training step\n",
        "            optimizer.zero_grad()\n",
        "\n",
        "            # backpropagation, compute gradients\n",
        "            loss.backward()\n",
        "            # apply gradients\n",
        "            optimizer.step()\n",
        "\n",
        "            if (i+1) % 100 == 0:\n",
        "               print('Epoch [{}/{}], Step [{}/{}], Loss: {:.4f}'.format(epoch + 1, num_epochs, i + 1, total_step, loss.item()))\n",
        "               pass\n",
        "        pass\n",
        "    pass\n",
        "train(num_epochs, cnn, loaders)"
      ],
      "metadata": {
        "colab": {
          "base_uri": "https://localhost:8080/"
        },
        "id": "KQ0y-h0PZnpA",
        "outputId": "84cfee25-be61-45e9-fb58-d423fe88460f"
      },
      "execution_count": 22,
      "outputs": [
        {
          "output_type": "stream",
          "name": "stdout",
          "text": [
            "Epoch [1/10], Step [100/600], Loss: 0.1768\n",
            "Epoch [1/10], Step [200/600], Loss: 0.0684\n",
            "Epoch [1/10], Step [300/600], Loss: 0.0565\n",
            "Epoch [1/10], Step [400/600], Loss: 0.0900\n",
            "Epoch [1/10], Step [500/600], Loss: 0.0726\n",
            "Epoch [1/10], Step [600/600], Loss: 0.0183\n",
            "Epoch [2/10], Step [100/600], Loss: 0.0625\n",
            "Epoch [2/10], Step [200/600], Loss: 0.1208\n",
            "Epoch [2/10], Step [300/600], Loss: 0.0448\n",
            "Epoch [2/10], Step [400/600], Loss: 0.0216\n",
            "Epoch [2/10], Step [500/600], Loss: 0.0088\n",
            "Epoch [2/10], Step [600/600], Loss: 0.0321\n",
            "Epoch [3/10], Step [100/600], Loss: 0.0513\n",
            "Epoch [3/10], Step [200/600], Loss: 0.0225\n",
            "Epoch [3/10], Step [300/600], Loss: 0.0168\n",
            "Epoch [3/10], Step [400/600], Loss: 0.0836\n",
            "Epoch [3/10], Step [500/600], Loss: 0.0249\n",
            "Epoch [3/10], Step [600/600], Loss: 0.0612\n",
            "Epoch [4/10], Step [100/600], Loss: 0.1330\n",
            "Epoch [4/10], Step [200/600], Loss: 0.1414\n",
            "Epoch [4/10], Step [300/600], Loss: 0.0472\n",
            "Epoch [4/10], Step [400/600], Loss: 0.0686\n",
            "Epoch [4/10], Step [500/600], Loss: 0.0351\n",
            "Epoch [4/10], Step [600/600], Loss: 0.0393\n",
            "Epoch [5/10], Step [100/600], Loss: 0.0633\n",
            "Epoch [5/10], Step [200/600], Loss: 0.0411\n",
            "Epoch [5/10], Step [300/600], Loss: 0.0393\n",
            "Epoch [5/10], Step [400/600], Loss: 0.0587\n",
            "Epoch [5/10], Step [500/600], Loss: 0.0374\n",
            "Epoch [5/10], Step [600/600], Loss: 0.1076\n",
            "Epoch [6/10], Step [100/600], Loss: 0.1192\n",
            "Epoch [6/10], Step [200/600], Loss: 0.1589\n",
            "Epoch [6/10], Step [300/600], Loss: 0.0277\n",
            "Epoch [6/10], Step [400/600], Loss: 0.0106\n",
            "Epoch [6/10], Step [500/600], Loss: 0.0118\n",
            "Epoch [6/10], Step [600/600], Loss: 0.0463\n",
            "Epoch [7/10], Step [100/600], Loss: 0.0083\n",
            "Epoch [7/10], Step [200/600], Loss: 0.0905\n",
            "Epoch [7/10], Step [300/600], Loss: 0.0628\n",
            "Epoch [7/10], Step [400/600], Loss: 0.0167\n",
            "Epoch [7/10], Step [500/600], Loss: 0.0109\n",
            "Epoch [7/10], Step [600/600], Loss: 0.0269\n",
            "Epoch [8/10], Step [100/600], Loss: 0.0080\n",
            "Epoch [8/10], Step [200/600], Loss: 0.0333\n",
            "Epoch [8/10], Step [300/600], Loss: 0.0213\n",
            "Epoch [8/10], Step [400/600], Loss: 0.0526\n",
            "Epoch [8/10], Step [500/600], Loss: 0.0393\n",
            "Epoch [8/10], Step [600/600], Loss: 0.2313\n",
            "Epoch [9/10], Step [100/600], Loss: 0.0186\n",
            "Epoch [9/10], Step [200/600], Loss: 0.0023\n",
            "Epoch [9/10], Step [300/600], Loss: 0.0029\n",
            "Epoch [9/10], Step [400/600], Loss: 0.0363\n",
            "Epoch [9/10], Step [500/600], Loss: 0.1102\n",
            "Epoch [9/10], Step [600/600], Loss: 0.0080\n",
            "Epoch [10/10], Step [100/600], Loss: 0.0685\n",
            "Epoch [10/10], Step [200/600], Loss: 0.0726\n",
            "Epoch [10/10], Step [300/600], Loss: 0.0103\n",
            "Epoch [10/10], Step [400/600], Loss: 0.0316\n",
            "Epoch [10/10], Step [500/600], Loss: 0.0135\n",
            "Epoch [10/10], Step [600/600], Loss: 0.0454\n"
          ]
        }
      ]
    },
    {
      "cell_type": "code",
      "source": [
        "def test():\n",
        "    # Test the model\n",
        "    cnn.eval()\n",
        "    with torch.no_grad():\n",
        "        correct = 0\n",
        "        total = 0\n",
        "        for images, labels in loaders['test']:\n",
        "            test_output, last_layer = cnn(images)\n",
        "            pred_y = torch.max(test_output, 1)[1].data.squeeze()\n",
        "            accuracy = (pred_y == labels).sum().item() / float(labels.size(0))\n",
        "            pass\n",
        "        print('Test Accuracy of the model on the 10000 test images: %.2f' % accuracy)\n",
        "\n",
        "    pass\n",
        "test()"
      ],
      "metadata": {
        "colab": {
          "base_uri": "https://localhost:8080/"
        },
        "id": "4c7duNMGZpBt",
        "outputId": "dc215f88-f73d-4a16-9ff5-981880ad70f3"
      },
      "execution_count": 23,
      "outputs": [
        {
          "output_type": "stream",
          "name": "stdout",
          "text": [
            "Test Accuracy of the model on the 10000 test images: 0.99\n"
          ]
        }
      ]
    },
    {
      "cell_type": "code",
      "source": [
        "sample = next(iter(loaders['test']))\n",
        "imgs, lbls = sample"
      ],
      "metadata": {
        "id": "cTW3esU0bmC-"
      },
      "execution_count": 24,
      "outputs": []
    },
    {
      "cell_type": "code",
      "source": [
        "actual_number = lbls[:10].numpy()\n",
        "actual_number"
      ],
      "metadata": {
        "colab": {
          "base_uri": "https://localhost:8080/"
        },
        "id": "WRRiQum8bqtt",
        "outputId": "9b03aa5b-a5ac-4066-fb9c-59aa5333be65"
      },
      "execution_count": 25,
      "outputs": [
        {
          "output_type": "execute_result",
          "data": {
            "text/plain": [
              "array([0, 4, 8, 2, 0, 8, 0, 6, 6, 7])"
            ]
          },
          "metadata": {},
          "execution_count": 25
        }
      ]
    },
    {
      "cell_type": "code",
      "source": [
        "test_output, last_layer = cnn(imgs[:10])\n",
        "pred_y = torch.max(test_output, 1)[1].data.numpy().squeeze()\n",
        "print(f'Prediction number: {pred_y}')\n",
        "print(f'Actual number: {actual_number}')"
      ],
      "metadata": {
        "colab": {
          "base_uri": "https://localhost:8080/"
        },
        "id": "I_-YX7h3bs01",
        "outputId": "185dbdab-ffca-4676-d3e9-e1880bb35b6c"
      },
      "execution_count": 28,
      "outputs": [
        {
          "output_type": "stream",
          "name": "stdout",
          "text": [
            "Prediction number: [0 4 8 2 0 4 0 6 6 7]\n",
            "Actual number: [0 4 8 2 0 8 0 6 6 7]\n"
          ]
        }
      ]
    },
    {
      "cell_type": "code",
      "source": [
        "!sudo apt-get install graphviz"
      ],
      "metadata": {
        "colab": {
          "base_uri": "https://localhost:8080/"
        },
        "id": "0ZySOUKTbvEU",
        "outputId": "d5d0e04b-bb12-4d09-8284-f1b108827424"
      },
      "execution_count": 29,
      "outputs": [
        {
          "output_type": "stream",
          "name": "stdout",
          "text": [
            "Reading package lists... Done\n",
            "Building dependency tree... Done\n",
            "Reading state information... Done\n",
            "graphviz is already the newest version (2.42.2-6).\n",
            "0 upgraded, 0 newly installed, 0 to remove and 18 not upgraded.\n"
          ]
        }
      ]
    },
    {
      "cell_type": "code",
      "source": [
        "!pip install torchviz"
      ],
      "metadata": {
        "colab": {
          "base_uri": "https://localhost:8080/"
        },
        "id": "s--b4RW0b7-Z",
        "outputId": "4c9d2cbe-31b4-4147-da63-1dadf230bdb1"
      },
      "execution_count": 30,
      "outputs": [
        {
          "output_type": "stream",
          "name": "stdout",
          "text": [
            "Collecting torchviz\n",
            "  Downloading torchviz-0.0.2.tar.gz (4.9 kB)\n",
            "  Preparing metadata (setup.py) ... \u001b[?25l\u001b[?25hdone\n",
            "Requirement already satisfied: torch in /usr/local/lib/python3.10/dist-packages (from torchviz) (2.0.1+cu118)\n",
            "Requirement already satisfied: graphviz in /usr/local/lib/python3.10/dist-packages (from torchviz) (0.20.1)\n",
            "Requirement already satisfied: filelock in /usr/local/lib/python3.10/dist-packages (from torch->torchviz) (3.12.4)\n",
            "Requirement already satisfied: typing-extensions in /usr/local/lib/python3.10/dist-packages (from torch->torchviz) (4.5.0)\n",
            "Requirement already satisfied: sympy in /usr/local/lib/python3.10/dist-packages (from torch->torchviz) (1.12)\n",
            "Requirement already satisfied: networkx in /usr/local/lib/python3.10/dist-packages (from torch->torchviz) (3.1)\n",
            "Requirement already satisfied: jinja2 in /usr/local/lib/python3.10/dist-packages (from torch->torchviz) (3.1.2)\n",
            "Requirement already satisfied: triton==2.0.0 in /usr/local/lib/python3.10/dist-packages (from torch->torchviz) (2.0.0)\n",
            "Requirement already satisfied: cmake in /usr/local/lib/python3.10/dist-packages (from triton==2.0.0->torch->torchviz) (3.27.6)\n",
            "Requirement already satisfied: lit in /usr/local/lib/python3.10/dist-packages (from triton==2.0.0->torch->torchviz) (17.0.2)\n",
            "Requirement already satisfied: MarkupSafe>=2.0 in /usr/local/lib/python3.10/dist-packages (from jinja2->torch->torchviz) (2.1.3)\n",
            "Requirement already satisfied: mpmath>=0.19 in /usr/local/lib/python3.10/dist-packages (from sympy->torch->torchviz) (1.3.0)\n",
            "Building wheels for collected packages: torchviz\n",
            "  Building wheel for torchviz (setup.py) ... \u001b[?25l\u001b[?25hdone\n",
            "  Created wheel for torchviz: filename=torchviz-0.0.2-py3-none-any.whl size=4130 sha256=3a3e2a5b0e8f29254348dfaa16d7761aab42271b15734864b3b766c904bc305c\n",
            "  Stored in directory: /root/.cache/pip/wheels/4c/97/88/a02973217949e0db0c9f4346d154085f4725f99c4f15a87094\n",
            "Successfully built torchviz\n",
            "Installing collected packages: torchviz\n",
            "Successfully installed torchviz-0.0.2\n"
          ]
        }
      ]
    },
    {
      "cell_type": "code",
      "source": [
        "from torchviz import make_dot\n",
        "make_dot(test_output.mean(), params=dict(cnn.named_parameters()))"
      ],
      "metadata": {
        "colab": {
          "base_uri": "https://localhost:8080/",
          "height": 938
        },
        "id": "ZBnCuzjGb-na",
        "outputId": "8d8c2e16-9332-433a-bdce-0391acd2231f"
      },
      "execution_count": 31,
      "outputs": [
        {
          "output_type": "execute_result",
          "data": {
            "image/svg+xml": "<?xml version=\"1.0\" encoding=\"UTF-8\" standalone=\"no\"?>\n<!DOCTYPE svg PUBLIC \"-//W3C//DTD SVG 1.1//EN\"\n \"http://www.w3.org/Graphics/SVG/1.1/DTD/svg11.dtd\">\n<!-- Generated by graphviz version 2.43.0 (0)\n -->\n<!-- Title: %3 Pages: 1 -->\n<svg width=\"496pt\" height=\"688pt\"\n viewBox=\"0.00 0.00 496.00 688.00\" xmlns=\"http://www.w3.org/2000/svg\" xmlns:xlink=\"http://www.w3.org/1999/xlink\">\n<g id=\"graph0\" class=\"graph\" transform=\"scale(1 1) rotate(0) translate(4 684)\">\n<title>%3</title>\n<polygon fill=\"white\" stroke=\"transparent\" points=\"-4,4 -4,-684 492,-684 492,4 -4,4\"/>\n<!-- 136398627594592 -->\n<g id=\"node1\" class=\"node\">\n<title>136398627594592</title>\n<polygon fill=\"#caff70\" stroke=\"black\" points=\"300.5,-31 246.5,-31 246.5,0 300.5,0 300.5,-31\"/>\n<text text-anchor=\"middle\" x=\"273.5\" y=\"-7\" font-family=\"monospace\" font-size=\"10.00\"> ()</text>\n</g>\n<!-- 136398668350176 -->\n<g id=\"node2\" class=\"node\">\n<title>136398668350176</title>\n<polygon fill=\"lightgrey\" stroke=\"black\" points=\"321,-86 226,-86 226,-67 321,-67 321,-86\"/>\n<text text-anchor=\"middle\" x=\"273.5\" y=\"-74\" font-family=\"monospace\" font-size=\"10.00\">MeanBackward0</text>\n</g>\n<!-- 136398668350176&#45;&gt;136398627594592 -->\n<g id=\"edge22\" class=\"edge\">\n<title>136398668350176&#45;&gt;136398627594592</title>\n<path fill=\"none\" stroke=\"black\" d=\"M273.5,-66.79C273.5,-60.07 273.5,-50.4 273.5,-41.34\"/>\n<polygon fill=\"black\" stroke=\"black\" points=\"277,-41.19 273.5,-31.19 270,-41.19 277,-41.19\"/>\n</g>\n<!-- 136398668357664 -->\n<g id=\"node3\" class=\"node\">\n<title>136398668357664</title>\n<polygon fill=\"lightgrey\" stroke=\"black\" points=\"324,-141 223,-141 223,-122 324,-122 324,-141\"/>\n<text text-anchor=\"middle\" x=\"273.5\" y=\"-129\" font-family=\"monospace\" font-size=\"10.00\">AddmmBackward0</text>\n</g>\n<!-- 136398668357664&#45;&gt;136398668350176 -->\n<g id=\"edge1\" class=\"edge\">\n<title>136398668357664&#45;&gt;136398668350176</title>\n<path fill=\"none\" stroke=\"black\" d=\"M273.5,-121.75C273.5,-114.8 273.5,-104.85 273.5,-96.13\"/>\n<polygon fill=\"black\" stroke=\"black\" points=\"277,-96.09 273.5,-86.09 270,-96.09 277,-96.09\"/>\n</g>\n<!-- 136398668357952 -->\n<g id=\"node4\" class=\"node\">\n<title>136398668357952</title>\n<polygon fill=\"lightgrey\" stroke=\"black\" points=\"193,-196 92,-196 92,-177 193,-177 193,-196\"/>\n<text text-anchor=\"middle\" x=\"142.5\" y=\"-184\" font-family=\"monospace\" font-size=\"10.00\">AccumulateGrad</text>\n</g>\n<!-- 136398668357952&#45;&gt;136398668357664 -->\n<g id=\"edge2\" class=\"edge\">\n<title>136398668357952&#45;&gt;136398668357664</title>\n<path fill=\"none\" stroke=\"black\" d=\"M163.55,-176.98C184.91,-168.34 218.2,-154.87 242.56,-145.02\"/>\n<polygon fill=\"black\" stroke=\"black\" points=\"244.11,-148.17 252.07,-141.17 241.49,-141.68 244.11,-148.17\"/>\n</g>\n<!-- 136398731775888 -->\n<g id=\"node5\" class=\"node\">\n<title>136398731775888</title>\n<polygon fill=\"lightblue\" stroke=\"black\" points=\"160,-262 95,-262 95,-232 160,-232 160,-262\"/>\n<text text-anchor=\"middle\" x=\"127.5\" y=\"-250\" font-family=\"monospace\" font-size=\"10.00\">out.bias</text>\n<text text-anchor=\"middle\" x=\"127.5\" y=\"-239\" font-family=\"monospace\" font-size=\"10.00\"> (10)</text>\n</g>\n<!-- 136398731775888&#45;&gt;136398668357952 -->\n<g id=\"edge3\" class=\"edge\">\n<title>136398731775888&#45;&gt;136398668357952</title>\n<path fill=\"none\" stroke=\"black\" d=\"M131.13,-231.84C133.11,-224.13 135.58,-214.49 137.71,-206.17\"/>\n<polygon fill=\"black\" stroke=\"black\" points=\"141.16,-206.82 140.25,-196.27 134.38,-205.08 141.16,-206.82\"/>\n</g>\n<!-- 136398668357760 -->\n<g id=\"node6\" class=\"node\">\n<title>136398668357760</title>\n<polygon fill=\"lightgrey\" stroke=\"black\" points=\"321,-196 226,-196 226,-177 321,-177 321,-196\"/>\n<text text-anchor=\"middle\" x=\"273.5\" y=\"-184\" font-family=\"monospace\" font-size=\"10.00\">ViewBackward0</text>\n</g>\n<!-- 136398668357760&#45;&gt;136398668357664 -->\n<g id=\"edge4\" class=\"edge\">\n<title>136398668357760&#45;&gt;136398668357664</title>\n<path fill=\"none\" stroke=\"black\" d=\"M273.5,-176.75C273.5,-169.8 273.5,-159.85 273.5,-151.13\"/>\n<polygon fill=\"black\" stroke=\"black\" points=\"277,-151.09 273.5,-141.09 270,-151.09 277,-151.09\"/>\n</g>\n<!-- 136398668357808 -->\n<g id=\"node7\" class=\"node\">\n<title>136398668357808</title>\n<polygon fill=\"lightgrey\" stroke=\"black\" points=\"369,-256.5 178,-256.5 178,-237.5 369,-237.5 369,-256.5\"/>\n<text text-anchor=\"middle\" x=\"273.5\" y=\"-244.5\" font-family=\"monospace\" font-size=\"10.00\">MaxPool2DWithIndicesBackward0</text>\n</g>\n<!-- 136398668357808&#45;&gt;136398668357760 -->\n<g id=\"edge5\" class=\"edge\">\n<title>136398668357808&#45;&gt;136398668357760</title>\n<path fill=\"none\" stroke=\"black\" d=\"M273.5,-237.37C273.5,-229.25 273.5,-216.81 273.5,-206.39\"/>\n<polygon fill=\"black\" stroke=\"black\" points=\"277,-206.17 273.5,-196.17 270,-206.17 277,-206.17\"/>\n</g>\n<!-- 136398668357616 -->\n<g id=\"node8\" class=\"node\">\n<title>136398668357616</title>\n<polygon fill=\"lightgrey\" stroke=\"black\" points=\"321,-322.5 226,-322.5 226,-303.5 321,-303.5 321,-322.5\"/>\n<text text-anchor=\"middle\" x=\"273.5\" y=\"-310.5\" font-family=\"monospace\" font-size=\"10.00\">ReluBackward0</text>\n</g>\n<!-- 136398668357616&#45;&gt;136398668357808 -->\n<g id=\"edge6\" class=\"edge\">\n<title>136398668357616&#45;&gt;136398668357808</title>\n<path fill=\"none\" stroke=\"black\" d=\"M273.5,-303.37C273.5,-294.16 273.5,-279.29 273.5,-267.27\"/>\n<polygon fill=\"black\" stroke=\"black\" points=\"277,-266.91 273.5,-256.91 270,-266.91 277,-266.91\"/>\n</g>\n<!-- 136398668359536 -->\n<g id=\"node9\" class=\"node\">\n<title>136398668359536</title>\n<polygon fill=\"lightgrey\" stroke=\"black\" points=\"342,-383 205,-383 205,-364 342,-364 342,-383\"/>\n<text text-anchor=\"middle\" x=\"273.5\" y=\"-371\" font-family=\"monospace\" font-size=\"10.00\">ConvolutionBackward0</text>\n</g>\n<!-- 136398668359536&#45;&gt;136398668357616 -->\n<g id=\"edge7\" class=\"edge\">\n<title>136398668359536&#45;&gt;136398668357616</title>\n<path fill=\"none\" stroke=\"black\" d=\"M273.5,-363.87C273.5,-355.75 273.5,-343.31 273.5,-332.89\"/>\n<polygon fill=\"black\" stroke=\"black\" points=\"277,-332.67 273.5,-322.67 270,-332.67 277,-332.67\"/>\n</g>\n<!-- 136398668359680 -->\n<g id=\"node10\" class=\"node\">\n<title>136398668359680</title>\n<polygon fill=\"lightgrey\" stroke=\"black\" points=\"205,-438 14,-438 14,-419 205,-419 205,-438\"/>\n<text text-anchor=\"middle\" x=\"109.5\" y=\"-426\" font-family=\"monospace\" font-size=\"10.00\">MaxPool2DWithIndicesBackward0</text>\n</g>\n<!-- 136398668359680&#45;&gt;136398668359536 -->\n<g id=\"edge8\" class=\"edge\">\n<title>136398668359680&#45;&gt;136398668359536</title>\n<path fill=\"none\" stroke=\"black\" d=\"M135.85,-418.98C163.26,-410.13 206.39,-396.19 237.06,-386.28\"/>\n<polygon fill=\"black\" stroke=\"black\" points=\"238.5,-389.49 246.94,-383.08 236.35,-382.83 238.5,-389.49\"/>\n</g>\n<!-- 136398668358768 -->\n<g id=\"node11\" class=\"node\">\n<title>136398668358768</title>\n<polygon fill=\"lightgrey\" stroke=\"black\" points=\"157,-498.5 62,-498.5 62,-479.5 157,-479.5 157,-498.5\"/>\n<text text-anchor=\"middle\" x=\"109.5\" y=\"-486.5\" font-family=\"monospace\" font-size=\"10.00\">ReluBackward0</text>\n</g>\n<!-- 136398668358768&#45;&gt;136398668359680 -->\n<g id=\"edge9\" class=\"edge\">\n<title>136398668358768&#45;&gt;136398668359680</title>\n<path fill=\"none\" stroke=\"black\" d=\"M109.5,-479.37C109.5,-471.25 109.5,-458.81 109.5,-448.39\"/>\n<polygon fill=\"black\" stroke=\"black\" points=\"113,-448.17 109.5,-438.17 106,-448.17 113,-448.17\"/>\n</g>\n<!-- 136398668360688 -->\n<g id=\"node12\" class=\"node\">\n<title>136398668360688</title>\n<polygon fill=\"lightgrey\" stroke=\"black\" points=\"178,-559 41,-559 41,-540 178,-540 178,-559\"/>\n<text text-anchor=\"middle\" x=\"109.5\" y=\"-547\" font-family=\"monospace\" font-size=\"10.00\">ConvolutionBackward0</text>\n</g>\n<!-- 136398668360688&#45;&gt;136398668358768 -->\n<g id=\"edge10\" class=\"edge\">\n<title>136398668360688&#45;&gt;136398668358768</title>\n<path fill=\"none\" stroke=\"black\" d=\"M109.5,-539.87C109.5,-531.75 109.5,-519.31 109.5,-508.89\"/>\n<polygon fill=\"black\" stroke=\"black\" points=\"113,-508.67 109.5,-498.67 106,-508.67 113,-508.67\"/>\n</g>\n<!-- 136398668359056 -->\n<g id=\"node13\" class=\"node\">\n<title>136398668359056</title>\n<polygon fill=\"lightgrey\" stroke=\"black\" points=\"101,-614 0,-614 0,-595 101,-595 101,-614\"/>\n<text text-anchor=\"middle\" x=\"50.5\" y=\"-602\" font-family=\"monospace\" font-size=\"10.00\">AccumulateGrad</text>\n</g>\n<!-- 136398668359056&#45;&gt;136398668360688 -->\n<g id=\"edge11\" class=\"edge\">\n<title>136398668359056&#45;&gt;136398668360688</title>\n<path fill=\"none\" stroke=\"black\" d=\"M59.98,-594.98C68.7,-587.15 81.84,-575.34 92.4,-565.86\"/>\n<polygon fill=\"black\" stroke=\"black\" points=\"94.75,-568.46 99.85,-559.17 90.07,-563.25 94.75,-568.46\"/>\n</g>\n<!-- 136398731776048 -->\n<g id=\"node14\" class=\"node\">\n<title>136398731776048</title>\n<polygon fill=\"lightblue\" stroke=\"black\" points=\"101,-680 0,-680 0,-650 101,-650 101,-680\"/>\n<text text-anchor=\"middle\" x=\"50.5\" y=\"-668\" font-family=\"monospace\" font-size=\"10.00\">conv1.0.weight</text>\n<text text-anchor=\"middle\" x=\"50.5\" y=\"-657\" font-family=\"monospace\" font-size=\"10.00\"> (16, 1, 5, 5)</text>\n</g>\n<!-- 136398731776048&#45;&gt;136398668359056 -->\n<g id=\"edge12\" class=\"edge\">\n<title>136398731776048&#45;&gt;136398668359056</title>\n<path fill=\"none\" stroke=\"black\" d=\"M50.5,-649.84C50.5,-642.21 50.5,-632.7 50.5,-624.45\"/>\n<polygon fill=\"black\" stroke=\"black\" points=\"54,-624.27 50.5,-614.27 47,-624.27 54,-624.27\"/>\n</g>\n<!-- 136398668356992 -->\n<g id=\"node15\" class=\"node\">\n<title>136398668356992</title>\n<polygon fill=\"lightgrey\" stroke=\"black\" points=\"220,-614 119,-614 119,-595 220,-595 220,-614\"/>\n<text text-anchor=\"middle\" x=\"169.5\" y=\"-602\" font-family=\"monospace\" font-size=\"10.00\">AccumulateGrad</text>\n</g>\n<!-- 136398668356992&#45;&gt;136398668360688 -->\n<g id=\"edge13\" class=\"edge\">\n<title>136398668356992&#45;&gt;136398668360688</title>\n<path fill=\"none\" stroke=\"black\" d=\"M159.86,-594.98C150.99,-587.15 137.63,-575.34 126.89,-565.86\"/>\n<polygon fill=\"black\" stroke=\"black\" points=\"129.13,-563.17 119.32,-559.17 124.49,-568.41 129.13,-563.17\"/>\n</g>\n<!-- 136398731785008 -->\n<g id=\"node16\" class=\"node\">\n<title>136398731785008</title>\n<polygon fill=\"lightblue\" stroke=\"black\" points=\"214,-680 125,-680 125,-650 214,-650 214,-680\"/>\n<text text-anchor=\"middle\" x=\"169.5\" y=\"-668\" font-family=\"monospace\" font-size=\"10.00\">conv1.0.bias</text>\n<text text-anchor=\"middle\" x=\"169.5\" y=\"-657\" font-family=\"monospace\" font-size=\"10.00\"> (16)</text>\n</g>\n<!-- 136398731785008&#45;&gt;136398668356992 -->\n<g id=\"edge14\" class=\"edge\">\n<title>136398731785008&#45;&gt;136398668356992</title>\n<path fill=\"none\" stroke=\"black\" d=\"M169.5,-649.84C169.5,-642.21 169.5,-632.7 169.5,-624.45\"/>\n<polygon fill=\"black\" stroke=\"black\" points=\"173,-624.27 169.5,-614.27 166,-624.27 173,-624.27\"/>\n</g>\n<!-- 136398668359392 -->\n<g id=\"node17\" class=\"node\">\n<title>136398668359392</title>\n<polygon fill=\"lightgrey\" stroke=\"black\" points=\"324,-438 223,-438 223,-419 324,-419 324,-438\"/>\n<text text-anchor=\"middle\" x=\"273.5\" y=\"-426\" font-family=\"monospace\" font-size=\"10.00\">AccumulateGrad</text>\n</g>\n<!-- 136398668359392&#45;&gt;136398668359536 -->\n<g id=\"edge15\" class=\"edge\">\n<title>136398668359392&#45;&gt;136398668359536</title>\n<path fill=\"none\" stroke=\"black\" d=\"M273.5,-418.75C273.5,-411.8 273.5,-401.85 273.5,-393.13\"/>\n<polygon fill=\"black\" stroke=\"black\" points=\"277,-393.09 273.5,-383.09 270,-393.09 277,-393.09\"/>\n</g>\n<!-- 136398667547568 -->\n<g id=\"node18\" class=\"node\">\n<title>136398667547568</title>\n<polygon fill=\"lightblue\" stroke=\"black\" points=\"327,-504 220,-504 220,-474 327,-474 327,-504\"/>\n<text text-anchor=\"middle\" x=\"273.5\" y=\"-492\" font-family=\"monospace\" font-size=\"10.00\">conv2.0.weight</text>\n<text text-anchor=\"middle\" x=\"273.5\" y=\"-481\" font-family=\"monospace\" font-size=\"10.00\"> (32, 16, 5, 5)</text>\n</g>\n<!-- 136398667547568&#45;&gt;136398668359392 -->\n<g id=\"edge16\" class=\"edge\">\n<title>136398667547568&#45;&gt;136398668359392</title>\n<path fill=\"none\" stroke=\"black\" d=\"M273.5,-473.84C273.5,-466.21 273.5,-456.7 273.5,-448.45\"/>\n<polygon fill=\"black\" stroke=\"black\" points=\"277,-448.27 273.5,-438.27 270,-448.27 277,-448.27\"/>\n</g>\n<!-- 136398668357568 -->\n<g id=\"node19\" class=\"node\">\n<title>136398668357568</title>\n<polygon fill=\"lightgrey\" stroke=\"black\" points=\"443,-438 342,-438 342,-419 443,-419 443,-438\"/>\n<text text-anchor=\"middle\" x=\"392.5\" y=\"-426\" font-family=\"monospace\" font-size=\"10.00\">AccumulateGrad</text>\n</g>\n<!-- 136398668357568&#45;&gt;136398668359536 -->\n<g id=\"edge17\" class=\"edge\">\n<title>136398668357568&#45;&gt;136398668359536</title>\n<path fill=\"none\" stroke=\"black\" d=\"M373.38,-418.98C354.15,-410.42 324.27,-397.11 302.19,-387.28\"/>\n<polygon fill=\"black\" stroke=\"black\" points=\"303.53,-384.04 292.97,-383.17 300.68,-390.44 303.53,-384.04\"/>\n</g>\n<!-- 136398731782448 -->\n<g id=\"node20\" class=\"node\">\n<title>136398731782448</title>\n<polygon fill=\"lightblue\" stroke=\"black\" points=\"437,-504 348,-504 348,-474 437,-474 437,-504\"/>\n<text text-anchor=\"middle\" x=\"392.5\" y=\"-492\" font-family=\"monospace\" font-size=\"10.00\">conv2.0.bias</text>\n<text text-anchor=\"middle\" x=\"392.5\" y=\"-481\" font-family=\"monospace\" font-size=\"10.00\"> (32)</text>\n</g>\n<!-- 136398731782448&#45;&gt;136398668357568 -->\n<g id=\"edge18\" class=\"edge\">\n<title>136398731782448&#45;&gt;136398668357568</title>\n<path fill=\"none\" stroke=\"black\" d=\"M392.5,-473.84C392.5,-466.21 392.5,-456.7 392.5,-448.45\"/>\n<polygon fill=\"black\" stroke=\"black\" points=\"396,-448.27 392.5,-438.27 389,-448.27 396,-448.27\"/>\n</g>\n<!-- 136398668357088 -->\n<g id=\"node21\" class=\"node\">\n<title>136398668357088</title>\n<polygon fill=\"lightgrey\" stroke=\"black\" points=\"446,-196 369,-196 369,-177 446,-177 446,-196\"/>\n<text text-anchor=\"middle\" x=\"407.5\" y=\"-184\" font-family=\"monospace\" font-size=\"10.00\">TBackward0</text>\n</g>\n<!-- 136398668357088&#45;&gt;136398668357664 -->\n<g id=\"edge19\" class=\"edge\">\n<title>136398668357088&#45;&gt;136398668357664</title>\n<path fill=\"none\" stroke=\"black\" d=\"M385.97,-176.98C364.03,-168.3 329.76,-154.75 304.81,-144.88\"/>\n<polygon fill=\"black\" stroke=\"black\" points=\"306.01,-141.59 295.42,-141.17 303.43,-148.1 306.01,-141.59\"/>\n</g>\n<!-- 136398668359152 -->\n<g id=\"node22\" class=\"node\">\n<title>136398668359152</title>\n<polygon fill=\"lightgrey\" stroke=\"black\" points=\"488,-256.5 387,-256.5 387,-237.5 488,-237.5 488,-256.5\"/>\n<text text-anchor=\"middle\" x=\"437.5\" y=\"-244.5\" font-family=\"monospace\" font-size=\"10.00\">AccumulateGrad</text>\n</g>\n<!-- 136398668359152&#45;&gt;136398668357088 -->\n<g id=\"edge20\" class=\"edge\">\n<title>136398668359152&#45;&gt;136398668357088</title>\n<path fill=\"none\" stroke=\"black\" d=\"M433.07,-237.37C428.73,-228.9 421.98,-215.74 416.51,-205.07\"/>\n<polygon fill=\"black\" stroke=\"black\" points=\"419.62,-203.47 411.94,-196.17 413.39,-206.66 419.62,-203.47\"/>\n</g>\n<!-- 136398731778288 -->\n<g id=\"node23\" class=\"node\">\n<title>136398731778288</title>\n<polygon fill=\"lightblue\" stroke=\"black\" points=\"479,-328 396,-328 396,-298 479,-298 479,-328\"/>\n<text text-anchor=\"middle\" x=\"437.5\" y=\"-316\" font-family=\"monospace\" font-size=\"10.00\">out.weight</text>\n<text text-anchor=\"middle\" x=\"437.5\" y=\"-305\" font-family=\"monospace\" font-size=\"10.00\"> (10, 1568)</text>\n</g>\n<!-- 136398731778288&#45;&gt;136398668359152 -->\n<g id=\"edge21\" class=\"edge\">\n<title>136398731778288&#45;&gt;136398668359152</title>\n<path fill=\"none\" stroke=\"black\" d=\"M437.5,-297.8C437.5,-288.7 437.5,-276.79 437.5,-266.9\"/>\n<polygon fill=\"black\" stroke=\"black\" points=\"441,-266.84 437.5,-256.84 434,-266.84 441,-266.84\"/>\n</g>\n</g>\n</svg>\n",
            "text/plain": [
              "<graphviz.graphs.Digraph at 0x7c0dca2cc2b0>"
            ]
          },
          "metadata": {},
          "execution_count": 31
        }
      ]
    },
    {
      "cell_type": "code",
      "source": [],
      "metadata": {
        "id": "_RNpyrBjcPaX"
      },
      "execution_count": null,
      "outputs": []
    }
  ]
}